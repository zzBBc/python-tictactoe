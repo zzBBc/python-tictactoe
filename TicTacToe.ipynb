{
 "nbformat": 4,
 "nbformat_minor": 2,
 "metadata": {
  "language_info": {
   "name": "python",
   "codemirror_mode": {
    "name": "ipython",
    "version": 3
   },
   "version": "3.7.4-final"
  },
  "orig_nbformat": 2,
  "file_extension": ".py",
  "mimetype": "text/x-python",
  "name": "python",
  "npconvert_exporter": "python",
  "pygments_lexer": "ipython3",
  "version": 3,
  "kernelspec": {
   "name": "python3",
   "display_name": "Python 3"
  }
 },
 "cells": [
  {
   "cell_type": "code",
   "execution_count": 2,
   "metadata": {},
   "outputs": [],
   "source": [
    "def check(board):\n",
    "    if board[0] == board[1]== board[2]:\n",
    "        return True\n",
    "    if board[3] == board[4] == board[5]:\n",
    "        return True\n",
    "    if board[6] == board[7] == board[8]:\n",
    "        return True\n",
    "    \n",
    "    if board[0] == board[3] == board[6]:\n",
    "        return True\n",
    "    if board[1] == board[4] == board[7]:\n",
    "        return True\n",
    "    if board[2] == board[5] == board[8]:\n",
    "        return True\n",
    "\n",
    "    if board[0] == board[4] == board[8]:\n",
    "        return True\n",
    "    if board[2] == board[4] == board[6]:\n",
    "        return True\n",
    "    return False"
   ]
  },
  {
   "cell_type": "code",
   "execution_count": 3,
   "metadata": {},
   "outputs": [],
   "source": [
    "def display_board(board):\n",
    "    print(\"| {} | {} | {} |\".format(board[0], board[1], board[2]))\n",
    "    print(\"| {} | {} | {} |\".format(board[3], board[4], board[5]))\n",
    "    print(\"| {} | {} | {} |\".format(board[6], board[7], board[8]))"
   ]
  },
  {
   "cell_type": "code",
   "execution_count": 7,
   "metadata": {},
   "outputs": [
    {
     "name": "stdout",
     "output_type": "stream",
     "text": "Player 1 win!\n"
    }
   ],
   "source": [
    "from IPython.display import clear_output\n",
    "\n",
    "player1 = input(\"Please pick a marker 'X' or 'O'\")\n",
    "clear_output()\n",
    "\n",
    "if player1 == 'X': player2 = 'O'\n",
    "else: player2 = 'X'\n",
    "\n",
    "board = [\"1\", \"2\", \"3\", \"4\", \"5\", \"6\", \"7\", \"8\", \"9\"]\n",
    "while check(board) != True:\n",
    "    display_board(board)\n",
    "    print(\"Player 1 pick a position\")\n",
    "    position = int(input(\"Pick a position 1 - 9\")) - 1\n",
    "    clear_output()\n",
    "    board[position] = player1\n",
    "    if check(board):\n",
    "        print(\"Player 1 win!\")\n",
    "        break\n",
    "\n",
    "    display_board(board)\n",
    "    print(\"Player 2 pick a position\")\n",
    "    position = int(input(\"Pick a position 1 - 9\")) - 1\n",
    "    clear_output()\n",
    "    board[position] = player2\n",
    "    if check(board):\n",
    "        print(\"Player 2 win!\")\n",
    "        break"
   ]
  },
  {
   "cell_type": "code",
   "execution_count": null,
   "metadata": {},
   "outputs": [],
   "source": []
  }
 ]
}